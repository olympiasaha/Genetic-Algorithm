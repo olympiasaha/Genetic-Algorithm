{
 "cells": [
  {
   "cell_type": "code",
   "execution_count": 1,
   "metadata": {},
   "outputs": [],
   "source": [
    "import random \n",
    "from functools import reduce\n",
    "import pandas as pd\n",
    "import matplotlib.pyplot as plt\n",
    "import os"
   ]
  },
  {
   "cell_type": "markdown",
   "metadata": {},
   "source": [
    "randomGenome(length) returns a random individual(genome) (bit string) of a given length."
   ]
  },
  {
   "cell_type": "code",
   "execution_count": 2,
   "metadata": {},
   "outputs": [],
   "source": [
    "def randomGenome(length):\n",
    "    genome = \"\"\n",
    "    for i in range(length):\n",
    "        genome = genome + str(random.randint(0, 1))\n",
    "    return genome"
   ]
  },
  {
   "cell_type": "markdown",
   "metadata": {},
   "source": [
    "makePopulation(size, length) returns a new randomly created population of the specified size, represented as a list of genomes of the specified length."
   ]
  },
  {
   "cell_type": "code",
   "execution_count": 3,
   "metadata": {},
   "outputs": [],
   "source": [
    "def makePopulation(size, length):\n",
    "    population = []\n",
    "    for i in range(size):\n",
    "        population.append(randomGenome(length))\n",
    "    return population"
   ]
  },
  {
   "cell_type": "markdown",
   "metadata": {},
   "source": [
    "fitness(genome) returns the fitness value of a genome."
   ]
  },
  {
   "cell_type": "code",
   "execution_count": 4,
   "metadata": {},
   "outputs": [],
   "source": [
    "def fitness(chromosome):\n",
    "    return reduce((lambda x, y: int(x) + int(y)), list(chromosome))"
   ]
  },
  {
   "cell_type": "markdown",
   "metadata": {},
   "source": [
    "evaluateFitness(population) returns a pair of values: the average fitness of the\n",
    "population as a whole and the fitness of the best individual in the population."
   ]
  },
  {
   "cell_type": "code",
   "execution_count": 5,
   "metadata": {},
   "outputs": [],
   "source": [
    "def evaluateFitness(population):\n",
    "    list_population_fitness = list(map(lambda x: fitness(x), population))\n",
    "    return [max(list_population_fitness), sum(list_population_fitness) / len(population)]"
   ]
  },
  {
   "cell_type": "markdown",
   "metadata": {},
   "source": [
    "roulette_wheel_selection(population) : selects a parent from the population "
   ]
  },
  {
   "cell_type": "code",
   "execution_count": 6,
   "metadata": {},
   "outputs": [],
   "source": [
    "def roulette_wheel_selection(population):\n",
    "    population_fitness_list=list(map(lambda x: fitness(x), population))\n",
    "    total=sum(population_fitness_list)\n",
    "    n=4\n",
    "    i = 0\n",
    "    w, v = population_fitness_list[0], population[0]\n",
    "    while n:\n",
    "        x = total * (1 - random.random() ** (1.0 / n))\n",
    "        total -= x\n",
    "        while x > w:\n",
    "            x -= w\n",
    "            i += 1\n",
    "            w, v = population_fitness_list[i], population[i]\n",
    "        w -= x\n",
    "        return v\n",
    "        n -= 1"
   ]
  },
  {
   "cell_type": "markdown",
   "metadata": {},
   "source": [
    "selectPair(population) selects and returns two genomes from the given\n",
    "population using fitness-proportionate selection."
   ]
  },
  {
   "cell_type": "code",
   "execution_count": 7,
   "metadata": {},
   "outputs": [],
   "source": [
    "def selectPair(population):\n",
    "    chosen_chromosome_A = roulette_wheel_selection(population)\n",
    "    chosen_chromosome_B = roulette_wheel_selection(population)\n",
    "    while (chosen_chromosome_A==chosen_chromosome_B):\n",
    "        chosen_chromosome_B = roulette_wheel_selection(population)\n",
    "    return (chosen_chromosome_A,chosen_chromosome_B)"
   ]
  },
  {
   "cell_type": "markdown",
   "metadata": {},
   "source": [
    "crossover(genome1, genome2) returns two new genomes produced by crossing\n",
    "over the given genomes at a random crossover point. "
   ]
  },
  {
   "cell_type": "code",
   "execution_count": 8,
   "metadata": {},
   "outputs": [],
   "source": [
    "def crossover(genomeOne, genomeTwo):\n",
    "    crosspoint = random.randint(0, len(genomeOne) - 1)\n",
    "    genomeA = genomeOne[:crosspoint] + genomeTwo[crosspoint:]\n",
    "    genomeB = genomeTwo[:crosspoint] + genomeOne[crosspoint:]\n",
    "    return genomeA, genomeB   "
   ]
  },
  {
   "cell_type": "markdown",
   "metadata": {},
   "source": [
    "mutate(genome, mutationRate) returns a new mutated version of the given\n",
    "genome.We are using a constant probability which means if the random probability of the gene is <=0.6, it’s mutated."
   ]
  },
  {
   "cell_type": "code",
   "execution_count": 9,
   "metadata": {},
   "outputs": [],
   "source": [
    "def mutation(genome, r_mut):\n",
    "    new_genome= ''\n",
    "    i=0\n",
    "    while i<len(genome):\n",
    "         # check for a mutation  \n",
    "        if random.random() <= r_mut:\n",
    "            if genome[i] == '0':\n",
    "                new_genome=new_genome+ '1'\n",
    "            if genome[i] == '1':\n",
    "                new_genome= new_genome+ '0'\n",
    "        else:\n",
    "            new_genome=new_genome+ genome[i]\n",
    "        i=i+1 \n",
    "    return new_genome"
   ]
  },
  {
   "cell_type": "markdown",
   "metadata": {},
   "source": [
    "Replace strategy1: We select only a pair of parents out of the whole population.We crossover and mutate. We replace only 2 worst parent genomes from the previous population with the new offsprings( irrespective of the fitness value of the offspring). \n"
   ]
  },
  {
   "cell_type": "code",
   "execution_count": 10,
   "metadata": {},
   "outputs": [],
   "source": [
    "# def replace (population,crossoverRate,mutationRate):\n",
    "#     population.sort(key = fitness)\n",
    "#     if (crossoverRate==0):\n",
    "#         mut_childA=mutation(population[0], mutationRate)\n",
    "#         population[0] = mut_childA\n",
    "#         return population\n",
    "#     else:   \n",
    "#         if (random.random() <= crossoverRate):\n",
    "#             parentX,parentY=selectPair(population)\n",
    "#             childA,childB=crossover(parentX,parentY)\n",
    "#             mut_childA=mutation(childA, mutationRate)\n",
    "#             mut_childB=mutation(childB, mutationRate)\n",
    "#             population[0:2] = [mut_childA, mut_childB]\n",
    "#             return population\n",
    "#         else:\n",
    "#             return(population)\n",
    "  \n",
    "    "
   ]
  },
  {
   "cell_type": "markdown",
   "metadata": {},
   "source": [
    "Replace strategy2 :  if we have population size=n, let's select (roulette wheel) n/2 pairs of parents and create a mating pool . Then we crossover and mutate every pair. If crossover rate is turned off, we mutate every genome with the mutation rate.\n"
   ]
  },
  {
   "cell_type": "code",
   "execution_count": 11,
   "metadata": {},
   "outputs": [],
   "source": [
    "# def replace (population,crossoverRate,mutationRate):\n",
    "#     new_population=[]\n",
    "#     if (crossoverRate==0):\n",
    "#         for i in range(int(len(population))):\n",
    "#             mut_childA=mutation(population[i], mutationRate)\n",
    "#             new_population.extend([mut_childA])\n",
    "#             i+=1\n",
    "#         return new_population\n",
    "#     else:   \n",
    "#         if (random.random() <= crossoverRate):\n",
    "#             for i in range(int((len(population))/2)):\n",
    "#                 parentX,parentY=selectPair(population)\n",
    "#                 childA,childB=crossover(parentX,parentY)\n",
    "#                 mut_childA=mutation(childA, mutationRate)\n",
    "#                 mut_childB=mutation(childB, mutationRate)\n",
    "#                 new_population.extend([mut_childA,mut_childB]) \n",
    "#                 i+=1\n",
    "#             return new_population\n",
    "#         else:\n",
    "#             return(population)"
   ]
  },
  {
   "cell_type": "markdown",
   "metadata": {},
   "source": [
    "Replace strategy3:  if we have population size=n, let's select (roulette wheel) n/2 pairs of parents and create a mating pool . Then we crossover and mutate every pair. But we always keep the best for the next generation. If the fitness value of offspring is less than the parent , we keep the parent , and discard the offspring.If the fitness value of offspring is more than the parent , we keep the offspring , and discard the parent."
   ]
  },
  {
   "cell_type": "code",
   "execution_count": 12,
   "metadata": {},
   "outputs": [],
   "source": [
    "def replace (population,crossoverRate,mutationRate):\n",
    "    new_population=[]\n",
    "    crossover_pop=[]\n",
    "    if (crossoverRate==0):\n",
    "        for i in range(int(len(population))):\n",
    "            mut_childA=mutation(population[i], mutationRate)\n",
    "            if ((fitness(mut_childA))>(fitness(population[i]))):\n",
    "                new_population.extend([mut_childA])\n",
    "            else:\n",
    "                new_population.extend([population[i]])\n",
    "            i+=1\n",
    "        return new_population\n",
    "    else:   \n",
    "        if (random.random() <= crossoverRate):\n",
    "            for i in range(int((len(population))/2)):\n",
    "                parentX,parentY=selectPair(population)\n",
    "                childA,childB=crossover(parentX,parentY)\n",
    "                mut_childA=mutation(childA, mutationRate)\n",
    "                mut_childB=mutation(childB, mutationRate)\n",
    "                crossover_pop=[parentX,parentY,childA,childB]\n",
    "                crossover_pop.sort(key = fitness)\n",
    "                new_population.extend([crossover_pop[2],crossover_pop[3]]) \n",
    "                i+=1\n",
    "            return new_population\n",
    "        else:\n",
    "            return(population)"
   ]
  },
  {
   "cell_type": "markdown",
   "metadata": {},
   "source": [
    "converge(population,genomeLength,no_of_generation,logFile=\"GA_logFile.txt\")- checks to see if any of the genome is the optimal string or not. It prints out, on each generation cycle, the fitness of the best individual in the current population and the average fitness of the population as a whole. It also records this output data in a text file."
   ]
  },
  {
   "cell_type": "code",
   "execution_count": 13,
   "metadata": {},
   "outputs": [],
   "source": [
    "def converge(population,genomeLength,no_of_generation,logFile):\n",
    "    maxFitnessValue,avgFitnessValue=evaluateFitness(population)\n",
    "    file1 = open(logFile, 'a')\n",
    "    file1.write(str(no_of_generation)+ \" \")\n",
    "    file1.write(str(avgFitnessValue)+ \" \")\n",
    "    file1.write(str(maxFitnessValue)+ \"\\n\")\n",
    "    file1.close()\n",
    "    print(\"Generation  \",no_of_generation, \" :\" , \"   average fitness  \", avgFitnessValue, \" , \",\" best fitness  \",maxFitnessValue)\n",
    "    if(maxFitnessValue==genomeLength):\n",
    "        return 0\n",
    "    else:\n",
    "        return 1"
   ]
  },
  {
   "cell_type": "markdown",
   "metadata": {},
   "source": [
    "runGA(populationSize, crossoverRate, mutationRate, logFile=\"\") is the main\n",
    "GA program, which takes the population size, crossover rate (pc), and mutation rate (pm) as parameters. The optional logFile parameter is a string specifying the name of a text file in which to store the data generated by the GA, for plotting purposes. When the GA terminates, this function should return the generation at which the string of all ones was found."
   ]
  },
  {
   "cell_type": "code",
   "execution_count": 14,
   "metadata": {},
   "outputs": [],
   "source": [
    "def runGA(populationSize, crossoverRate, mutationRate,logFile=\"GA_logFile.txt\"):\n",
    "    if os.path.exists(\"GA_logFile.txt\"):\n",
    "        os.remove(\"GA_logFile.txt\")\n",
    "    random.seed(2)\n",
    "    i=0\n",
    "    no_of_generation=50\n",
    "    genomeLength=20\n",
    "    flag=1\n",
    "    population = makePopulation(populationSize, genomeLength)\n",
    "    print(\"Population size: \" ,populationSize)\n",
    "    print(\"Genome length: \" ,genomeLength)\n",
    "    for i in range(no_of_generation):\n",
    "        flag=converge(population,genomeLength,i,logFile)\n",
    "        if (flag==0):\n",
    "            print(\"Results saved in file GA_logFile.txt\")\n",
    "            data = pd.read_csv(\"GA_logFile.txt\", sep=\" \", header=None, names=[\"Generation\", \"Average_Fitness\",\"Best_Fitness\"])\n",
    "            gen = data[\"Generation\"]\n",
    "            fitness=data[\"Best_Fitness\"]\n",
    "            plt.ylabel(\"Fitness\")\n",
    "            plt.xlabel(\"Generation\")\n",
    "            plt.plot(gen, fitness)\n",
    "            plt.show()\n",
    "            return (i+1)\n",
    "        \n",
    "        else: \n",
    "            population=replace(population,crossoverRate,mutationRate)\n",
    "            i+=1\n",
    "    print(\"Results saved in file GA_logFile.txt\")\n",
    "    data = pd.read_csv(\"GA_logFile.txt\", sep=\" \", header=None, names=[\"Generation\", \"Average_Fitness\",\"Best_Fitness\"])\n",
    "    gen = data[\"Generation\"]\n",
    "    fitness=data[\"Best_Fitness\"]\n",
    "    plt.ylabel(\"Fitness\")\n",
    "    plt.xlabel(\"Generation\")\n",
    "    plt.plot(gen, fitness)\n",
    "    plt.show()\n",
    "    return(i-1)\n",
    "    "
   ]
  },
  {
   "cell_type": "code",
   "execution_count": 16,
   "metadata": {},
   "outputs": [
    {
     "name": "stdout",
     "output_type": "stream",
     "text": [
      "Population size:  100\n",
      "Genome length:  20\n",
      "Generation   0  :    average fitness   9.82  ,   best fitness   17\n",
      "Generation   1  :    average fitness   9.82  ,   best fitness   17\n",
      "Generation   2  :    average fitness   12.95  ,   best fitness   17\n",
      "Generation   3  :    average fitness   15.01  ,   best fitness   18\n",
      "Generation   4  :    average fitness   16.16  ,   best fitness   18\n",
      "Generation   5  :    average fitness   17.09  ,   best fitness   18\n",
      "Generation   6  :    average fitness   17.48  ,   best fitness   19\n",
      "Generation   7  :    average fitness   17.93  ,   best fitness   20\n",
      "Results saved in file GA_logFile.txt\n"
     ]
    },
    {
     "data": {
      "image/png": "[encoded data removed]",
      "text/plain": [
       "<Figure size 432x288 with 1 Axes>"
      ]
     },
     "metadata": {
      "needs_background": "light"
     },
     "output_type": "display_data"
    },
    {
     "data": {
      "text/plain": [
       "8"
      ]
     },
     "execution_count": 16,
     "metadata": {},
     "output_type": "execute_result"
    }
   ],
   "source": [
    "runGA(100, 0.7, 0.0)"
   ]
  }
 ],
 "metadata": {
  "kernelspec": {
   "display_name": "Python 3",
   "language": "python",
   "name": "python3"
  },
  "language_info": {
   "codemirror_mode": {
    "name": "ipython",
    "version": 3
   },
   "file_extension": ".py",
   "mimetype": "text/x-python",
   "name": "python",
   "nbconvert_exporter": "python",
   "pygments_lexer": "ipython3",
   "version": "3.7.1"
  }
 },
 "nbformat": 4,
 "nbformat_minor": 2
}
